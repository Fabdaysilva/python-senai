{
 "cells": [
  {
   "cell_type": "markdown",
   "id": "756ec8e0",
   "metadata": {},
   "source": [
    "Aula 02 - Estrutura Condicional"
   ]
  },
  {
   "cell_type": "markdown",
   "id": "92eba887",
   "metadata": {},
   "source": [
    "### Exercício 01 \n",
    "Crie uma variável chamada \"idade\" e atribua um valor inteiro a ela.\n",
    "Verifique se a idade é maior ou igual a 18 e imprima \"Maior de idade\" ou \"Menor de\n",
    "idade\" de acordo com a condição."
   ]
  },
  {
   "cell_type": "code",
   "execution_count": null,
   "id": "1fdcd7aa",
   "metadata": {},
   "outputs": [],
   "source": [
    "idade = 25\n",
    "\n",
    "if idade >= 18:\n",
    "    print('Maior de idade')\n",
    "else:\n",
    "    print('Menor de idade')"
   ]
  },
  {
   "cell_type": "markdown",
   "id": "9bb2ec6f",
   "metadata": {},
   "source": [
    "### Exercício 02\n",
    "Crie uma variável chamada \"número\" e atribua um valor inteiro a ela.\n",
    "Verifique se o número é positivo, negativo ou zero e imprima a mensagem\n",
    "correspondente."
   ]
  },
  {
   "cell_type": "code",
   "execution_count": null,
   "id": "f3ba89f4",
   "metadata": {},
   "outputs": [],
   "source": [
    "num = 20\n",
    "#se o numero for > que ZERO\n",
    "\n",
    "if num > 0:\n",
    "    print('Positivo')\n",
    "else:\n",
    "    print('Negativo')\n",
    "    \n"
   ]
  },
  {
   "cell_type": "code",
   "execution_count": null,
   "id": "a5284266",
   "metadata": {},
   "outputs": [],
   "source": [
    "num = 0\n",
    "\n",
    "if num > 0:\n",
    "    print('Positivo')\n",
    "else:\n",
    "    print('Negativo')\n",
    "    \n",
    "\n"
   ]
  },
  {
   "cell_type": "code",
   "execution_count": null,
   "id": "400d5602",
   "metadata": {},
   "outputs": [],
   "source": [
    "#Verificar se o numero é positivo, negativo ou nulo\n",
    "\n",
    "num = -10\n",
    "\n",
    "if num > 0:\n",
    "    print('Positivo')\n",
    "elif num < 0:\n",
    "    print('Negativo')\n",
    "else:\n",
    "    print('Nulo')"
   ]
  },
  {
   "cell_type": "markdown",
   "id": "ca77ebb4",
   "metadata": {},
   "source": [
    "### Exercício 03 \n",
    "Crie duas variáveis, \"nota1\" e \"nota2\", e atribua valores numéricos a elas.\n",
    "Verifique se a média das notas é maior ou igual a 7 e imprima \"Aprovado\" ou\n",
    "\"Reprovado\" de acordo com a condição."
   ]
  },
  {
   "cell_type": "code",
   "execution_count": null,
   "id": "3c8ba818",
   "metadata": {},
   "outputs": [],
   "source": [
    "nota_1 = 7\n",
    "nota_2 = 10\n",
    "\n",
    "media = (nota_1 + nota_2)/2\n",
    "\n",
    "if media >= 7:\n",
    "    print('Aprovado')\n",
    "else:\n",
    "    print('Reprovado')\n",
    "\n"
   ]
  },
  {
   "cell_type": "code",
   "execution_count": null,
   "id": "20adf856",
   "metadata": {},
   "outputs": [],
   "source": [
    "nota_1 = input('Digite a nota 01')\n",
    "nota_2 = input('Digite a nota 02')\n",
    "\n",
    "#converter os dados para float(numero decimal)\n",
    "nota_1 = float(nota_1)\n",
    "nota_2 = float(nota_2)\n",
    "\n",
    "media = (nota_1 + nota_2)/2\n",
    "\n",
    "if media >= 7:\n",
    "    print('Aprovado')\n",
    "else:\n",
    "    print('Reprovado')\n",
    "\n"
   ]
  },
  {
   "cell_type": "markdown",
   "id": "fc6df91d",
   "metadata": {},
   "source": [
    "### Exercício 04 \n",
    "Crie uma variável chamada \"idade\" e atribua um valor inteiro a ela.\n",
    "Verifique se a idade está dentro do intervalo de 18 a 30 (inclusive) e imprima a\n",
    "mensagem \"Idade válida\" ou \"Idade inválida\" de acordo com a condição."
   ]
  },
  {
   "cell_type": "code",
   "execution_count": null,
   "id": "36c34349",
   "metadata": {},
   "outputs": [],
   "source": [
    "idade = 15\n",
    "\n",
    "if idade >= 18 and idade <= 30:    \n",
    "    print('Idade valida!')\n",
    "else:\n",
    "    print('Idade invalida!')\n",
    "\n",
    "\n"
   ]
  },
  {
   "cell_type": "code",
   "execution_count": null,
   "id": "e2f360df",
   "metadata": {},
   "outputs": [],
   "source": [
    "idade = input('Digite sua idade')\n",
    "\n",
    "#Converter em valor inteiro\n",
    "idade = int(idade)\n",
    "\n",
    "if idade >= 18 and idade <= 30:    \n",
    "    print('Idade valida!')\n",
    "else:\n",
    "    print('Idade invalida!')"
   ]
  },
  {
   "cell_type": "markdown",
   "id": "ec372e52",
   "metadata": {},
   "source": [
    "### Exercício 05 \n",
    "Crie uma variável chamada \"numero\" e atribua um valor inteiro a ela.\n",
    "Verifique se o número é par ou ímpar e imprima a mensagem correspondente."
   ]
  },
  {
   "cell_type": "code",
   "execution_count": null,
   "id": "024cdeb0",
   "metadata": {},
   "outputs": [],
   "source": [
    "num = 22\n",
    "\n",
    "if num % 2 == 0:\n",
    "    print('Par')\n",
    "else:\n",
    "    print('Impar')"
   ]
  },
  {
   "cell_type": "markdown",
   "id": "c04a257c",
   "metadata": {},
   "source": [
    "### Exercício 06 \n",
    "\n",
    "Crie uma variável chamada \"horario\" e atribua um valor inteiro\n",
    "representando a hora do dia (em formato 24 horas). Verifique se o horário está dentro\n",
    "do período da manhã (das 6h às 12h), da tarde (das 12h às 18h) ou da noite (das 18h\n",
    "às 23h) e imprima a mensagem correspondente."
   ]
  },
  {
   "cell_type": "code",
   "execution_count": null,
   "id": "38c7bc54",
   "metadata": {},
   "outputs": [],
   "source": [
    "horario = input('digite um horario')\n",
    "horario = int(horario)\n",
    "\n",
    "if horario >= 6 and horario < 12:\n",
    "    print(\"bom dia\")\n",
    "elif horario >= 12 and horario < 18:\n",
    "    print('Boa tarde') \n",
    "else:\n",
    "    print('Boa Noite')\n"
   ]
  },
  {
   "cell_type": "code",
   "execution_count": null,
   "id": "f335561d",
   "metadata": {},
   "outputs": [],
   "source": [
    "horario = input('digite um horario')\n",
    "horario = int(horario)\n",
    "\n",
    "if horario >= 6 and horario < 12:\n",
    "    print(\"bom dia\")\n",
    "elif horario >= 12 and horario < 18:\n",
    "    print('Boa tarde') \n",
    "elif horario >= 18 and horario < 23:\n",
    "    print('Boa noite')\n",
    "elif horario >= 0 and horario < 6:    \n",
    "    print('Chegou cedo')"
   ]
  },
  {
   "cell_type": "markdown",
   "id": "42a2c9c4",
   "metadata": {},
   "source": [
    "### Exercício 07 \n",
    "Crie uma variável chamada \"peso\" e atribua um valor numérico a ela.\n",
    "Verifique se o peso está dentro do intervalo de 50 a 100 (inclusive) e imprima a\n",
    "mensagem \"Peso válido\" ou \"Peso inválido\" de acordo com a condição."
   ]
  },
  {
   "cell_type": "code",
   "execution_count": null,
   "id": "4bd8c0c4",
   "metadata": {},
   "outputs": [],
   "source": [
    "peso = input('digite um peso')\n",
    "peso = int(peso)\n",
    "\n",
    "if peso >= 50 and peso <= 100:\n",
    "    print('Peso valido')\n",
    "else: \n",
    "    print('Peso invalido')"
   ]
  },
  {
   "cell_type": "markdown",
   "id": "66e7f5cf",
   "metadata": {},
   "source": [
    "### Exercício 08 \n",
    "Crie uma variável chamada \"numero\" e atribua um valor inteiro a ela.\n",
    "Verifique se o número é múltiplo de 3 e de 5 ao mesmo tempo e imprima a mensagem\n",
    "correspondente."
   ]
  },
  {
   "cell_type": "code",
   "execution_count": null,
   "id": "805bde13",
   "metadata": {},
   "outputs": [],
   "source": [
    "num = 12\n",
    "\n",
    "\n"
   ]
  },
  {
   "cell_type": "markdown",
   "id": "4c4d0fa0",
   "metadata": {},
   "source": [
    "### Exercício 11\n",
    "Faça um Programa que peça dois números e imprima o maior deles."
   ]
  },
  {
   "cell_type": "code",
   "execution_count": null,
   "id": "6f9b4bb7",
   "metadata": {},
   "outputs": [],
   "source": [
    "num1 = input('digite o primeiro numero')\n",
    "num2 = input('digite o segumdo numero')\n",
    "\n",
    "num1 = int(num1)\n",
    "num2 = int(num2)\n",
    "\n",
    "if num1 > num2:\n",
    "    print(f'o maior valor é o {num1} e p menor valor é o {num2})\n",
    "else:\n",
    "    print(f'o maior valor é o {num2} e o menor é o {num2})\n",
    "          \n",
    "          \n",
    "   \n",
    "    \n",
    "\n"
   ]
  },
  {
   "cell_type": "markdown",
   "id": "350b5017",
   "metadata": {},
   "source": [
    "### Exercício 16 \n",
    "Faça um Programa que leia três números e mostre o maior deles."
   ]
  },
  {
   "cell_type": "code",
   "execution_count": null,
   "id": "a37ea68b",
   "metadata": {},
   "outputs": [],
   "source": [
    "num1 = 2\n",
    "num2 = 10\n",
    "num3 = 7\n",
    "\n",
    "if num1 > num2 and > num3:\n",
    "    print(num2)\n",
    "    \n",
    "\n",
    "\n",
    "\n"
   ]
  },
  {
   "cell_type": "code",
   "execution_count": null,
   "id": "ef20e3c1",
   "metadata": {},
   "outputs": [],
   "source": []
  }
 ],
 "metadata": {
  "kernelspec": {
   "display_name": "Python 3 (ipykernel)",
   "language": "python",
   "name": "python3"
  },
  "language_info": {
   "codemirror_mode": {
    "name": "ipython",
    "version": 3
   },
   "file_extension": ".py",
   "mimetype": "text/x-python",
   "name": "python",
   "nbconvert_exporter": "python",
   "pygments_lexer": "ipython3",
   "version": "3.10.9"
  }
 },
 "nbformat": 4,
 "nbformat_minor": 5
}
