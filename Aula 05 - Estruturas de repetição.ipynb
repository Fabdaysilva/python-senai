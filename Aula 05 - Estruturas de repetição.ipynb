{
 "cells": [
  {
   "cell_type": "markdown",
   "metadata": {},
   "source": [
    "Exercício 01 - Escreva um programa que imprima todos os números pares de 1\n",
    "a 100. (FOR)"
   ]
  },
  {
   "cell_type": "code",
   "execution_count": 58,
   "metadata": {},
   "outputs": [
    {
     "name": "stdout",
     "output_type": "stream",
     "text": [
      "2\n",
      "4\n",
      "6\n",
      "8\n",
      "10\n"
     ]
    }
   ],
   "source": [
    "numeros = range(1 , 11) #criando um intervalo de 1 a 100\n",
    "\n",
    "    \n",
    "for num in numeros:\n",
    "\n",
    "    if num % 2 == 0:\n",
    "        print(num)"
   ]
  },
  {
   "cell_type": "markdown",
   "metadata": {},
   "source": [
    "Exercício 02 - Crie um programa que conte quantas vezes a letra 'a' aparece em\n",
    "uma frase inserida pelo usuário. (FOR e IF)\n"
   ]
  },
  {
   "cell_type": "code",
   "execution_count": 9,
   "metadata": {},
   "outputs": [
    {
     "name": "stdout",
     "output_type": "stream",
     "text": [
      "A frase contém 3 letras A. \n"
     ]
    }
   ],
   "source": [
    "frase = input('Digite algo aqui: ')\n",
    "frase = frase.lower()   #lower converte letas maiuscula em minuscula\n",
    "\n",
    "contador = 0\n",
    "for letra in frase: \n",
    "    if letra == 'a' :\n",
    "        contador = contador + 1\n",
    "\n",
    "print (f'A frase contém {contador} letras A. ')      \n"
   ]
  },
  {
   "cell_type": "markdown",
   "metadata": {},
   "source": [
    "Exercício 14 - Faça um programa que peça 10 números inteiros, calcule e mostre a\n",
    "quantidade de números pares e a quantidade de números ímpares."
   ]
  },
  {
   "cell_type": "code",
   "execution_count": 50,
   "metadata": {},
   "outputs": [
    {
     "name": "stdout",
     "output_type": "stream",
     "text": [
      "Neste conjuto de numeros, contém 5 numeros impares e 5 numeros pares: \n"
     ]
    }
   ],
   "source": [
    "#lista vazia responsavel por armazenar os valores inseridos\n",
    "numeros = []\n",
    "\n",
    "i = 1 # variavel de controle\n",
    "\n",
    "while i <= 10:\n",
    "\n",
    "    numero = int(input('Digite um numero inteiro: '))\n",
    "#adicionar o numero digitado na lista numeros\n",
    "    numeros.append(numero)\n",
    "    i = i + 1\n",
    "\n",
    "#contadores\n",
    "impar = 0\n",
    "par = 0\n",
    "\n",
    "for num in numeros:\n",
    "\n",
    "    if num % 2 != 0:\n",
    "        #impar\n",
    "        impar += 1\n",
    "    else:\n",
    "        par += 1\n",
    "\n",
    "print(f'Neste conjuto de numeros, contém {impar} numeros impares e {par} numeros pares: ')     \n",
    "    \n",
    "           \n"
   ]
  },
  {
   "cell_type": "code",
   "execution_count": 38,
   "metadata": {},
   "outputs": [
    {
     "name": "stdout",
     "output_type": "stream",
     "text": [
      "[1, 2, 3, 4, 5, 6, 7, 8, 9, 10]\n"
     ]
    }
   ],
   "source": [
    "lista = [] #lista vazia\n",
    "\n",
    "i = 1 # variavel de controle\n",
    "\n",
    "while i <= 5:\n",
    "    numero = int(input('Digite um numero: '))\n",
    "    lista.append(numero)\n",
    "\n",
    "    i = i + 1\n",
    "\n",
    "print( lista)\n"
   ]
  },
  {
   "cell_type": "markdown",
   "metadata": {},
   "source": [
    "### Exercício 08 \n",
    "Crie um programa que peça ao usuário para inserir uma série de\n",
    "números e, em seguida, encontre o maior e o menor número da série."
   ]
  },
  {
   "cell_type": "code",
   "execution_count": 57,
   "metadata": {},
   "outputs": [
    {
     "name": "stdout",
     "output_type": "stream",
     "text": [
      "A lista contém os seguintes números:  [5.0, 4.0, 7.0, 8.0, 9.0]\n",
      "A lista contém 5 números\n",
      "A soma dos valores é: 33.0\n",
      "a media dos valoresé: 6.6\n"
     ]
    }
   ],
   "source": [
    "#Criar uma lista vazia para armazenar os valores\n",
    "\n",
    "lista_numeros = [] \n",
    "#Variavel de controle\n",
    "i = 0 \n",
    "\n",
    "#Estrutura de repetição para solicitar 5 valores \n",
    "#inserir na lista (lista_numeros)\n",
    "\n",
    "while i < 5:\n",
    "    #solicitar a inserção de novos valores\n",
    "    numero =float(input('Digite um valor: '))\n",
    "\n",
    "#Inserir o numero inserido, na lista criada\n",
    "    lista_numeros.append(numero)\n",
    "\n",
    "    i =i + 1 #Incremento de uma unidade na variavel i\n",
    "\n",
    "print('A lista contém os seguintes números: ', lista_numeros)\n",
    "print(f'A lista contém {i} números')\n",
    "\n",
    "\n",
    "#Declarar a variavel para armazenar a soma dos valores\n",
    "soma = 0 \n",
    "\n",
    "for x in lista_numeros:\n",
    "    #somar a variavel soma com o valor da variavel x\n",
    "\n",
    "    soma = soma + x \n",
    "print('A soma dos valores é:', soma)   \n",
    "\n",
    "#inicializar a variavel media\n",
    "media = 0\n",
    "#calcular  media aritmetica\n",
    "media = soma / i\n",
    "\n",
    "print('a media dos valoresé:', media)\n",
    "\n"
   ]
  },
  {
   "cell_type": "markdown",
   "metadata": {},
   "source": [
    "### Exercício 17 \n",
    "Faça um programa que calcule o fatorial de um número inteiro fornecido\n",
    "pelo usuário. Ex.: 5!=5.4.3.2.1=120"
   ]
  },
  {
   "cell_type": "code",
   "execution_count": 79,
   "metadata": {},
   "outputs": [
    {
     "name": "stdout",
     "output_type": "stream",
     "text": [
      "*********** Cáculo de Fatoria*******\n",
      "120\n"
     ]
    }
   ],
   "source": [
    "print('*********** Cáculo de Fatoria*******')\n",
    "\n",
    "#solicitar o valor\n",
    "i = int(input('Digite um numero para calcular o fatorial'))\n",
    "\n",
    "\n",
    "# Atribuindo o valor de entrada a variavel fatorial\n",
    "fatorial = i\n",
    "\n",
    "#Calculo do fatorial do numero digitado\n",
    "while i >= 1:\n",
    "#decrescimo do valor inserido para multiplicar o valor digitado \n",
    "#pelo numero anterior a ele\n",
    "    i = i - 1\n",
    "\n",
    " #validar que o valor do fator i não seja igial a 0   \n",
    "    if i != 0:\n",
    "\n",
    "        fatorial = fatorial * i\n",
    "  \n",
    "print(fatorial)\n",
    "\n",
    "\n"
   ]
  },
  {
   "cell_type": "markdown",
   "metadata": {},
   "source": [
    "### Exercicio 03\n",
    "Faça um pragrama que calcule a soma dos números de 1 a 100 (FOR)"
   ]
  },
  {
   "cell_type": "code",
   "execution_count": 90,
   "metadata": {},
   "outputs": [
    {
     "name": "stdout",
     "output_type": "stream",
     "text": [
      "A soma é:  5050\n"
     ]
    }
   ],
   "source": [
    "lista = range(1, 101)\n",
    "\n",
    "#criar uma variavem acumuladora\n",
    "\n",
    "soma = 0 \n",
    "\n",
    "\n",
    "for num in lista:\n",
    "    soma = soma + num\n",
    "        \n",
    "print('A soma é: ', soma)"
   ]
  },
  {
   "cell_type": "markdown",
   "metadata": {},
   "source": [
    "### Exercicio 04\n",
    "Crie um proigrama que solicite ao usuario que digite uma senha e continue pedindo até que a senha digitada seja igual a \"12345\". Quando a senha for correta, exiba a mendsagem de boas vindas (WHILE)"
   ]
  },
  {
   "cell_type": "code",
   "execution_count": 93,
   "metadata": {},
   "outputs": [
    {
     "name": "stdout",
     "output_type": "stream",
     "text": [
      "Seja bem-vindo!\n"
     ]
    }
   ],
   "source": [
    "\n",
    "senha = input('Digite a senha')\n",
    "              \n",
    "while senha != \"12345\":\n",
    "    senha = input('Digite uma senha') \n",
    "print(\"Seja bem-vindo!\")              "
   ]
  },
  {
   "cell_type": "markdown",
   "metadata": {},
   "source": []
  }
 ],
 "metadata": {
  "kernelspec": {
   "display_name": "Python 3",
   "language": "python",
   "name": "python3"
  },
  "language_info": {
   "codemirror_mode": {
    "name": "ipython",
    "version": 3
   },
   "file_extension": ".py",
   "mimetype": "text/x-python",
   "name": "python",
   "nbconvert_exporter": "python",
   "pygments_lexer": "ipython3",
   "version": "3.11.0"
  },
  "orig_nbformat": 4
 },
 "nbformat": 4,
 "nbformat_minor": 2
}
