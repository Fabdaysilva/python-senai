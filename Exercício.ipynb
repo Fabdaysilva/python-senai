{
 "cells": [
  {
   "cell_type": "code",
   "execution_count": null,
   "id": "996c2b55",
   "metadata": {},
   "outputs": [],
   "source": [
    "num1 = float(input('digite o numero 01: '))\n",
    "num2 = float(input('digite o numero 02: '))\n",
    "num3 = float(input('digite o numero 03: '))\n",
    "num4 = float(input('digite o numero 04: '))\n",
    "num5 = float(input('digite o numero 05: '))\n",
    "\n",
    "\n",
    "ordem = input('Qual ordem você quer: C - Crescente ou D - Decrescente')\n",
    "\n",
    "if ordem == 'd':\n",
    "\n",
    "if num1 > num2 and num1 > num3 and num1 > num4 and num1 > num5:\n",
    "if num2 > num3 > and num2 > num4 and num2 > nu if num3 > num4 > and num3 > num5:\n",
    "if num4 > num 5:\n",
    "print(f' 1º vlor: {num1}, 2º valor: {num2}, 3º valor: {num3}, 4º valor: {num4}, 5º valor: {num5}' )\n",
    "else:\n",
    "    \n",
    "# num1 > num2 and num1 > num3 and num1 > num4 and num1 > num5\n",
    "# num2 > num3 and num 2 > num4 and num2 > num5\n",
    "# num3 >num4 and num3 > num5\n",
    "# num4 > num5\n",
    "\n",
    "\n",
    "\n",
    "\n",
    "\n"
   ]
  },
  {
   "cell_type": "code",
   "execution_count": null,
   "id": "884d495a",
   "metadata": {},
   "outputs": [],
   "source": [
    "\n",
    "\n",
    "\n",
    "\n"
   ]
  },
  {
   "cell_type": "code",
   "execution_count": null,
   "id": "a5ca07fc",
   "metadata": {},
   "outputs": [],
   "source": []
  }
 ],
 "metadata": {
  "kernelspec": {
   "display_name": "Python 3 (ipykernel)",
   "language": "python",
   "name": "python3"
  },
  "language_info": {
   "codemirror_mode": {
    "name": "ipython",
    "version": 3
   },
   "file_extension": ".py",
   "mimetype": "text/x-python",
   "name": "python",
   "nbconvert_exporter": "python",
   "pygments_lexer": "ipython3",
   "version": "3.10.9"
  }
 },
 "nbformat": 4,
 "nbformat_minor": 5
}
