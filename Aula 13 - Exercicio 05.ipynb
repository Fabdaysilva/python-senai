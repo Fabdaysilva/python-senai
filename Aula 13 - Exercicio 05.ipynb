{
 "cells": [
  {
   "cell_type": "markdown",
   "metadata": {},
   "source": [
    "#### Instalando Bilbioteca OS"
   ]
  },
  {
   "cell_type": "code",
   "execution_count": 2,
   "metadata": {},
   "outputs": [],
   "source": [
    "# Importar as bibliotecas\n",
    "\n",
    "import os # Gerenciar os arquivos no sitema operacional\n",
    "import pandas as pd # Manipular os dados"
   ]
  },
  {
   "cell_type": "code",
   "execution_count": 3,
   "metadata": {},
   "outputs": [
    {
     "data": {
      "text/plain": [
       "['Funcionários - Faria Lima.xlsx',\n",
       " 'Funcionários - Matriz.xlsx',\n",
       " 'Funcionários - Paulista.xlsx',\n",
       " 'Funcionários - Pompéia.xlsx']"
      ]
     },
     "execution_count": 3,
     "metadata": {},
     "output_type": "execute_result"
    }
   ],
   "source": [
    "# Criar variável para armazenar o caminho do diretório com os arquivos\n",
    "dir_path = 'C:\\\\Users\\\\FIC\\Documents\\\\Fabiana Python\\\\003 - Arquivos\\\\filiais\\\\'\n",
    "\n",
    "os.listdir(dir_path) #Viasualiza todos os arquivos do caminho"
   ]
  },
  {
   "cell_type": "code",
   "execution_count": 11,
   "metadata": {},
   "outputs": [],
   "source": [
    "# Criar uma lista vazia para armazenar os caminhos completos\n",
    "\n",
    "res = []\n",
    "\n",
    "for path in os.listdir(dir_path):\n",
    "    #Verificar se é um arquivo válido\n",
    "    if os.path.isfile(dir_path + path):\n",
    "        res.append(dir_path + path)\n",
    "\n",
    "#Criar um dataframe vazio\n",
    "file_combined =pd.DataFrame()\n",
    "\n",
    "#Estrutura para combinar os arquivos\n",
    "for file in res:\n",
    "    df1 = pd.read_excel(file)\n",
    "    file_combined = pd.concat([file_combined, df1])\n",
    "\n",
    "dir_final = 'C:\\\\Users\\\\FIC\\Documents\\\\Fabiana Python\\\\003 - Arquivos\\\\'\n",
    "fileName = 'ArquivoVendasCombinado.xlsx'\n",
    "\n",
    "file_combined.to_excel(dir_final + fileName)\n",
    "\n",
    "\n"
   ]
  },
  {
   "cell_type": "code",
   "execution_count": 19,
   "metadata": {},
   "outputs": [
    {
     "name": "stdout",
     "output_type": "stream",
     "text": [
      "<class 'pandas.core.frame.DataFrame'>\n",
      "RangeIndex: 99 entries, 0 to 98\n",
      "Data columns (total 11 columns):\n",
      " #   Column        Non-Null Count  Dtype         \n",
      "---  ------        --------------  -----         \n",
      " 0   Matrícula     99 non-null     object        \n",
      " 1   Nome          99 non-null     object        \n",
      " 2   Gênero        99 non-null     object        \n",
      " 3   Cargo         99 non-null     object        \n",
      " 4   Departamento  99 non-null     object        \n",
      " 5   Diretoria     99 non-null     object        \n",
      " 6   Salário       99 non-null     int64         \n",
      " 7   Nascimento    99 non-null     datetime64[ns]\n",
      " 8   Entrada       99 non-null     datetime64[ns]\n",
      " 9   Saída         60 non-null     datetime64[ns]\n",
      " 10  Unidade       99 non-null     object        \n",
      "dtypes: datetime64[ns](3), int64(1), object(7)\n",
      "memory usage: 8.6+ KB\n"
     ]
    }
   ],
   "source": [
    "df1.info()"
   ]
  },
  {
   "cell_type": "code",
   "execution_count": null,
   "metadata": {},
   "outputs": [],
   "source": []
  }
 ],
 "metadata": {
  "kernelspec": {
   "display_name": "Python 3",
   "language": "python",
   "name": "python3"
  },
  "language_info": {
   "codemirror_mode": {
    "name": "ipython",
    "version": 3
   },
   "file_extension": ".py",
   "mimetype": "text/x-python",
   "name": "python",
   "nbconvert_exporter": "python",
   "pygments_lexer": "ipython3",
   "version": "3.11.0"
  },
  "orig_nbformat": 4
 },
 "nbformat": 4,
 "nbformat_minor": 2
}
